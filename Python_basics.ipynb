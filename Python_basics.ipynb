{
 "cells": [
  {
   "cell_type": "code",
   "execution_count": 37,
   "id": "508ae20f-d1e3-4689-921e-8f3b9b46e3cc",
   "metadata": {},
   "outputs": [
    {
     "name": "stdout",
     "output_type": "stream",
     "text": [
      "hello I am a function\n",
      "Apple\n",
      "Orange\n",
      "banana\n"
     ]
    },
    {
     "data": {
      "text/plain": [
       "[100.0, 86.0, 56.0, 25.0]"
      ]
     },
     "execution_count": 37,
     "metadata": {},
     "output_type": "execute_result"
    }
   ],
   "source": [
    "#create custom functions\n",
    "def myfunction():\n",
    "    print(\"hello I am a function\")\n",
    "myfunction()\n",
    "\n",
    "#function with paramters\n",
    "def myParameterFunction(list1):\n",
    "    for item in list1:\n",
    "        print(item);\n",
    "myParameterFunction([\"Apple\",\"Orange\",\"banana\"])\n",
    "\n",
    "#function with return type\n",
    "def percentageCalculator(marks):\n",
    "    percentages=[]\n",
    "    for items in marks:\n",
    "        percentage = round((items/100)*100,2)\n",
    "        percentages.append(percentage)\n",
    "    return percentages\n",
    "percentageCalculator([100,86,56,25])\n"
   ]
  },
  {
   "cell_type": "code",
   "execution_count": 35,
   "id": "dad71e30-1abe-49aa-8854-346fe5e9c14d",
   "metadata": {},
   "outputs": [
    {
     "name": "stdout",
     "output_type": "stream",
     "text": [
      "the factorial is 120\n"
     ]
    }
   ],
   "source": [
    "#return function 2\n",
    "def factorial(number):\n",
    "    factorial =1\n",
    "    while number > 0:\n",
    "        factorial = factorial * (number)\n",
    "        number= number -1\n",
    "    return factorial\n",
    "factorial(5)\n",
    "print(\"the factorial is\",factorial(5))"
   ]
  },
  {
   "cell_type": "code",
   "execution_count": 39,
   "id": "0324ed3a-543c-4415-aadd-c4687212e3ba",
   "metadata": {},
   "outputs": [
    {
     "name": "stdout",
     "output_type": "stream",
     "text": [
      "The factorial of 5 is 120\n"
     ]
    }
   ],
   "source": [
    "def recfactorial(number):\n",
    "    if number <= 1:\n",
    "        return 1\n",
    "    else:\n",
    "        return number * factorial(number - 1)\n",
    "print(\"The factorial of 5 is\", factorial(5))\n"
   ]
  },
  {
   "cell_type": "code",
   "execution_count": 23,
   "id": "0b6168b9-cc74-48f2-b6c6-29ce7341af36",
   "metadata": {},
   "outputs": [
    {
     "name": "stdout",
     "output_type": "stream",
     "text": [
      "3125\n",
      "[2, 4, 6, 8, 10]\n",
      "Factorial 120\n",
      "squared_list [1, 4, 9, 16, 25, 36, 49, 64, 81, 100]\n"
     ]
    }
   ],
   "source": [
    "#lambda functions are anonymous function\n",
    "#they can be assigned to variable\n",
    "#can contain any number of arguments but only one expression\n",
    "\n",
    "#function to find power of a number\n",
    "x= lambda a : pow(a,a)\n",
    "print(x(5))\n",
    "\n",
    "#lambda filter function\n",
    "#syntax: filter(Predicate/condition,iterable)\n",
    "#returns true or false based on condition\n",
    "numbers=[1,2,3,4,5,6,7,8,9,10]\n",
    "filtered_list = filter(lambda x: x % 2 == 0,numbers)\n",
    "print(list(filtered_list))\n",
    "\n",
    "#lambda reduce\n",
    "#used to reduce the whole list to single cumulative value. doesnt return list\n",
    "from functools import reduce\n",
    "numbers=[1,2,3,4,5]\n",
    "factorial = reduce(lambda x,y: x*y,numbers)\n",
    "print('Factorial',factorial)\n",
    "\n",
    "#map applies a given operation to every element in list\n",
    "numbers=[1,2,3,4,5,6,7,8,9,10]\n",
    "squared_list = list(map(lambda x: x*x ,numbers))\n",
    "print('squared_list',squared_list)\n"
   ]
  },
  {
   "cell_type": "code",
   "execution_count": 42,
   "id": "1e1a06be-0ea8-4362-a648-cb40df5503c3",
   "metadata": {},
   "outputs": [
    {
     "name": "stdout",
     "output_type": "stream",
     "text": [
      "[[[1 2 3]\n",
      "  [4 5 6]]\n",
      "\n",
      " [[1 2 3]\n",
      "  [4 5 6]]]\n",
      "[-10.  -8.   4.   3.   2.   1.]\n",
      "Addition:  [11 22 33 44 55]\n",
      "Subtraction:  [ -9 -18 -27 -36 -45]\n",
      "Multiplication:  [ 10  40  90 160 250]\n",
      "Division:  [0.1 0.1 0.1 0.1 0.1]\n",
      "matrix_multiplication 550\n",
      "first_row [1 2 3]\n",
      "last_column [3 6 9]\n",
      "middle_elements [[2]\n",
      " [5]\n",
      " [8]]\n",
      "array_2d [[ 1  2  3  4]\n",
      " [ 5  6  7  8]\n",
      " [ 9 10 11 12]]\n",
      "array_flatten [ 1  2  3  4  5  6  7  8  9 10 11 12]\n"
     ]
    }
   ],
   "source": [
    "#numpy functions\n",
    "import numpy as np\n",
    "#creating 3d arrays\n",
    "arr = np.array([[[1, 2, 3], [4, 5, 6]], [[1, 2, 3], [4, 5, 6]]])\n",
    "print(arr)\n",
    "#1.Print the reverse NumPy array with type float.\n",
    "list= [1, 2, 3, 4, -8, -10]\n",
    "reversed_list = np.flip(list)\n",
    "#2.converting integer array to float\n",
    "float_list = np.array(reversed_list,dtype = 'float')\n",
    "print(float_list)\n",
    "\n",
    "#3.arithmetic operations on array\n",
    "a = np.array([1, 2, 3, 4, 5])\n",
    "b = np.array([10, 20, 30, 40, 50])\n",
    "addition = a + b\n",
    "subtraction = a - b\n",
    "multiplication = a * b\n",
    "division = a / b\n",
    "#m*n and n*p result will be m*p\n",
    "#first row* first column/ then first row second column then proceeding with next rows with same columns\n",
    "#in 1D array 10*1+20*2..\n",
    "matrix_multiplication = np.dot(a,b)\n",
    "print(\"Addition: \", addition)\n",
    "print(\"Subtraction: \", subtraction)\n",
    "print(\"Multiplication: \", multiplication)\n",
    "print(\"Division: \", division)\n",
    "print(\"matrix_multiplication\",matrix_multiplication)\n",
    "\n",
    "#array slicing\n",
    "matrix =np.array([[1,2,3],[4,5,6],[7,8,9]])\n",
    "#slice syntax : array[startrow:endrow, startcolumn:endcolumn]\n",
    "#first row\n",
    "first_row= matrix[0,:]\n",
    "#last column\n",
    "last_column = matrix[:,len(matrix)-1]\n",
    "#middle elements in each row\n",
    "#right index is not included\n",
    "middle_elements = matrix[:,1:2]\n",
    "print(\"first_row\",first_row)\n",
    "print(\"last_column\",last_column)\n",
    "print(\"middle_elements\",middle_elements)\n",
    "\n",
    "#array reshape\n",
    "a=np.array([1,2,3,4,5,6,7,8,9,10,11,12])\n",
    "array_2d = a.reshape(3,4)\n",
    "array_flatten = array_2d.reshape(-1)\n",
    "print(\"array_2d\",array_2d)\n",
    "print(\"array_flatten\",array_flatten)"
   ]
  },
  {
   "cell_type": "code",
   "execution_count": 10,
   "id": "0640a6cc-f2e6-407c-aa8b-006f218fa2c7",
   "metadata": {},
   "outputs": [
    {
     "name": "stdout",
     "output_type": "stream",
     "text": [
      "IloveProgramING\n",
      "i-LOVE-pROGRAMing\n",
      "Contains alpha and numeric q\n",
      "contains lowercase q\n",
      "Contains alpha and numeric A\n",
      "contains uppercase A\n",
      "Contains alpha and numeric 2\n",
      "contains numbers 2\n",
      "Jello, World!\n"
     ]
    }
   ],
   "source": [
    "#string functions\n",
    "#1.swap case\n",
    "sentence = \"iLOVEpROGRAMing\"\n",
    "print(sentence.swapcase())\n",
    "\n",
    "#2. Split the string on a \" \" (space) delimiter and join using a - hyphen.\n",
    "sentence = \"i LOVE pROGRAMing\"  \n",
    "splitstring = sentence.split(' ') \n",
    "joinedstring = '-'.join(splitstring)\n",
    "print(joinedstring)\n",
    "\n",
    "#3.string validation\n",
    "input_string = \"qA2\"\n",
    "for char in input_string:\n",
    "    if char.isalnum():\n",
    "        print(\"Contains alpha and numeric\",char)\n",
    "    if char.isdigit():\n",
    "        print(\"contains numbers\",char)\n",
    "    if char.islower():\n",
    "        print(\"contains lowercase\",char)\n",
    "    if char.isupper():\n",
    "        print(\"contains uppercase\",char)\n",
    "#4.replace string function\n",
    "a = \"Hello, World!\"\n",
    "print(a.replace(\"H\", \"J\"))\n",
    "\n"
   ]
  },
  {
   "cell_type": "code",
   "execution_count": 21,
   "id": "f45e45e8-ae46-4aee-a1df-c1a593f05e65",
   "metadata": {},
   "outputs": [
    {
     "name": "stdout",
     "output_type": "stream",
     "text": [
      "p\n",
      "y\n",
      "t\n",
      "h\n",
      "o\n",
      "n\n",
      "0\n",
      "1\n",
      "1\n",
      "4\n",
      "7\n",
      "reverse of a a string n\n",
      "reverse of a a string o\n",
      "reverse of a a string h\n",
      "reverse of a a string t\n",
      "reverse of a a string y\n",
      "reverse of a a string p\n",
      "[0, 1, 1, 2, 3]\n"
     ]
    }
   ],
   "source": [
    "#for loops\n",
    "#1.iterating through string\n",
    "sentence = \"python\"\n",
    "for char in sentence:\n",
    "    print(char)\n",
    "#2.looping using given range\n",
    "for i in range(2):\n",
    "    print(i)\n",
    "#3.looping with increment\n",
    "for i in range(1,10,3):\n",
    "    print(i)\n",
    "#4.reverse of a string\n",
    "for char in range(len(sentence) - 1, -1, -1):\n",
    "    print('reverse of a a string',sentence[char])\n",
    "#5.fibonacci series\n",
    "def fibnocci(number):\n",
    "    a=0\n",
    "    b=1\n",
    "    list=[]\n",
    "    while len(list)<number:\n",
    "        list.append(a)\n",
    "        a,b=b,a+b\n",
    "    print(list)\n",
    "fibnocci(5)\n",
    "    \n",
    "    \n"
   ]
  },
  {
   "cell_type": "code",
   "execution_count": 50,
   "id": "167117e6-6183-4e1e-b19b-a5d032668361",
   "metadata": {},
   "outputs": [
    {
     "name": "stdout",
     "output_type": "stream",
     "text": [
      "(1, 2, 'hello')\n",
      "1\n",
      "4\n",
      "highest_grade 92\n",
      "lowest_grade 78\n",
      "86.8\n"
     ]
    }
   ],
   "source": [
    "#tuples\n",
    "#immutbale-no appending,deleting or insetion\n",
    "\n",
    "#1.tuple creation\n",
    "my_tuple = (1,2,\"hello\",3,4)\n",
    "#2.accessing subset of tuples\n",
    "subset_tuple = my_tuple[0:3]\n",
    "print(subset_tuple)\n",
    "#2 and 4 count of eoccurances and index of elements\n",
    "print(my_tuple.count(\"hello\"))\n",
    "print(my_tuple.index(4))\n",
    "\n",
    "#5Question: Tuple Operations and Manipulation\n",
    "#You are given a list of tuples, where each tuple contains the following structure:\n",
    "#The first element is the name of a student (string).\n",
    "#The second element is their grade (integer).\n",
    "#Task:\n",
    "#Find the highest grade in the list and return it.\n",
    "#Find the lowest grade in the list and return it.\n",
    "#Calculate the average grade of all students and return it, rounded to two decimal places\n",
    "\n",
    "\n",
    "def gradeFinder(input_tuple):\n",
    "    highest_grade=0\n",
    "    lowest_grade=100\n",
    "    total_grade =0\n",
    "    average =0\n",
    "    for name,grade in input_tuple:\n",
    "        if grade > highest_grade:\n",
    "            highest_grade = grade\n",
    "    print('highest_grade',highest_grade)\n",
    "    for name,grade in input_tuple:\n",
    "        if grade < lowest_grade:\n",
    "            lowest_grade = grade\n",
    "    print('lowest_grade',lowest_grade)\n",
    "    for name,grade in input_tuple:\n",
    "        total_grade = total_grade+grade\n",
    "    average =total_grade/len( input_tuple)\n",
    "    print(average)\n",
    "input_tuple = [(\"Alice\", 85), (\"Bob\", 92), (\"Charlie\", 78), (\"David\", 88), (\"Eva\", 91)]\n",
    "gradeFinder(input_tuple)\n",
    " \n",
    "\n"
   ]
  },
  {
   "cell_type": "code",
   "execution_count": 101,
   "id": "e9cd3daf-cfd1-461a-af08-67aa8afb95f7",
   "metadata": {},
   "outputs": [
    {
     "name": "stdout",
     "output_type": "stream",
     "text": [
      "['hello', 'hello', 'world', 'this', 'is', 'a', 'world', 'of', 'python.', 'hello', 'world']\n",
      "word frequency {'hello': 3, 'world': 3, 'this': 1, 'is': 1, 'a': 1, 'of': 1, 'python.': 1}\n",
      "character frequency {'h': 1, 'e': 1, 'l': 3, 'o': 2, ' ': 1, 'w': 1, 'r': 1, 'd': 1}\n",
      "{'apple': 6, 'banana': 6, 'orange': 4}\n"
     ]
    }
   ],
   "source": [
    "#1.dictionary practice question\n",
    "def count_word_frequency(text):\n",
    "    #to convert into lower case \n",
    "    lower_text = text.lower()\n",
    "    #to remove punctutaions\n",
    "    for punctuations in ('!',','):\n",
    "       lower_text= lower_text.replace(punctuations,\"\")\n",
    "    #to split into words\n",
    "    split_list= lower_text.split(' ')\n",
    "    print(split_list)\n",
    "    #empty dictionary \n",
    "    dict={}\n",
    "    for words in split_list:\n",
    "        if words in dict:\n",
    "            dict[words]+=1\n",
    "        else:\n",
    "            dict[words]=1\n",
    "    #results\n",
    "    print(\"word frequency\",dict)\n",
    "text = \"Hello hello world, this is a world of python. Hello, world!\"\n",
    "count_word_frequency(text)\n",
    "#dictionary practice question2\n",
    "#find character frequency\n",
    "def character_frequency(text):\n",
    "    lower_text = text.lower()\n",
    "    #remove punctuations:\n",
    "    for punctuations in (',','!'):\n",
    "      lower_text=  lower_text.replace(punctuations,\"\");\n",
    "    dict={}\n",
    "    for char in lower_text:\n",
    "        if char in dict:\n",
    "            dict[char]+=1\n",
    "        else:\n",
    "            dict[char]=1\n",
    "    print(\"character frequency\",dict)\n",
    "text = \"Hello, World!\"\n",
    "character_frequency(text)\n",
    "#inventory tracker\n",
    "def inventory_tracker(sales_data):\n",
    "    dict={}\n",
    "    for item,quantity in sales_data:\n",
    "        if item in dict:\n",
    "            dict[item]+=quantity\n",
    "        else:\n",
    "            dict[item]=quantity\n",
    "    print(dict)\n",
    "sales_data = [\n",
    "    (\"apple\", 3),\n",
    "    (\"banana\", 5),\n",
    "    (\"apple\", 2),\n",
    "    (\"orange\", 4),\n",
    "    (\"banana\", 1),\n",
    "    (\"apple\", 1)\n",
    "]\n",
    "inventory_tracker(sales_data)\n"
   ]
  },
  {
   "cell_type": "code",
   "execution_count": 115,
   "id": "fed96824-e50b-406b-a27d-7ecb59217e74",
   "metadata": {},
   "outputs": [
    {
     "name": "stdout",
     "output_type": "stream",
     "text": [
      "22.86\n",
      "Normal Weight\n"
     ]
    }
   ],
   "source": [
    "#arithemetic functions\n",
    "#1.bmi calculator\n",
    "def calculatebmi(weight,height):\n",
    "    BMI = weight/(height*height)\n",
    "    print(round(BMI,2))\n",
    "    if BMI < 18.5:\n",
    "        print(\"Under weight\")\n",
    "    elif 18.5 <= BMI < 24.9:\n",
    "        print(\"Normal Weight\")\n",
    "    elif 25 <= BMI < 29.9:\n",
    "        print(\"Over weight\")\n",
    "    else:\n",
    "        print(\"Obesity\")\n",
    "calculatebmi(70,1.75)"
   ]
  },
  {
   "cell_type": "code",
   "execution_count": 55,
   "id": "251a19c4-665f-4444-bda6-6f51697be765",
   "metadata": {},
   "outputs": [
    {
     "name": "stdout",
     "output_type": "stream",
     "text": [
      "Defaulting to user installation because normal site-packages is not writeable\n",
      "Looking in links: /usr/share/pip-wheels\n",
      "Requirement already satisfied: openpyxl in /opt/conda/envs/anaconda-2022.05-py39/lib/python3.9/site-packages (3.0.9)\n",
      "Requirement already satisfied: et-xmlfile in /opt/conda/envs/anaconda-2022.05-py39/lib/python3.9/site-packages (from openpyxl) (1.1.0)\n",
      "Note: you may need to restart the kernel to use updated packages.\n"
     ]
    }
   ],
   "source": [
    "pip install openpyxl"
   ]
  },
  {
   "cell_type": "code",
   "execution_count": 57,
   "id": "840c68fe-28c7-4c5e-8004-fc0d2439dc41",
   "metadata": {},
   "outputs": [],
   "source": [
    "import pandas as pd"
   ]
  },
  {
   "cell_type": "code",
   "execution_count": 81,
   "id": "d9c05104-71a8-4118-a99d-0a8d854d02e2",
   "metadata": {},
   "outputs": [
    {
     "name": "stdout",
     "output_type": "stream",
     "text": [
      "   Category_id            Category_id.1\n",
      "0            1              Intoduction\n",
      "1            2            Azure Storage\n",
      "2            3       Azure SQL Database\n",
      "3            4  Azure Synapse Analytics\n",
      "4            5         Azure DataBricks\n",
      "Index(['Category_id', 'Category_id.1'], dtype='object')\n",
      "Index(['Category_id', 'Category_description'], dtype='object')\n",
      "['Intoduction' 'Azure Storage' 'Azure SQL Database'\n",
      " 'Azure Synapse Analytics' 'Azure DataBricks' 'Azure Datafactory'\n",
      " 'Azure Security']\n"
     ]
    }
   ],
   "source": [
    "dframe = pd.read_excel('/home/c1caac95-76bb-4d34-a649-06ed0d881be7/Python_practice/Dim_category.xlsx')\n",
    "print(dframe.head(5))\n",
    "print(dframe.columns)\n",
    "#rename columns\n",
    "dframe = dframe.rename(columns={\"Category_id.1\": \"Category_description\"})\n",
    "print(dframe.columns)\n",
    "#unique category\n",
    "unique_categories = dframe['Category_description'].unique()\n",
    "print(unique_categories)"
   ]
  },
  {
   "cell_type": "code",
   "execution_count": 69,
   "id": "067a969f-a7e9-4245-b5ae-9af110c59ed2",
   "metadata": {},
   "outputs": [
    {
     "name": "stdout",
     "output_type": "stream",
     "text": [
      "/home/c1caac95-76bb-4d34-a649-06ed0d881be7/Python_practice\n"
     ]
    }
   ],
   "source": [
    "print(os.getcwd())"
   ]
  },
  {
   "cell_type": "code",
   "execution_count": 87,
   "id": "6aae60be-bdb9-45bc-82aa-e712ccd1be08",
   "metadata": {},
   "outputs": [
    {
     "data": {
      "image/png": "[encoded data removed]",
      "text/plain": [
       "<Figure size 432x288 with 1 Axes>"
      ]
     },
     "metadata": {
      "needs_background": "light"
     },
     "output_type": "display_data"
    },
    {
     "data": {
      "image/png": "[encoded data removed]",
      "text/plain": [
       "<Figure size 432x288 with 1 Axes>"
      ]
     },
     "metadata": {},
     "output_type": "display_data"
    }
   ],
   "source": [
    "import matplotlib.pyplot as plt\n",
    "\n",
    "dframe['Category_description'].value_counts().plot(kind='bar')\n",
    "\n",
    "plt.title('Category Distribution')\n",
    "plt.xlabel('Category Name')\n",
    "plt.ylabel('Frequency')\n",
    "plt.show()\n",
    "\n",
    "dframe['Category_description'].value_counts().plot(kind='pie')\n",
    "\n",
    "plt.title('Category Distribution')\n",
    "plt.xlabel('Category Name')\n",
    "plt.ylabel('Frequency')\n",
    "plt.show()"
   ]
  },
  {
   "cell_type": "code",
   "execution_count": null,
   "id": "096e5c51-6f92-41bf-8ef4-9c6b83a8666a",
   "metadata": {},
   "outputs": [],
   "source": []
  }
 ],
 "metadata": {
  "kernelspec": {
   "display_name": "anaconda-2022.05-py39",
   "language": "python",
   "name": "conda-env-anaconda-2022.05-py39-py"
  },
  "language_info": {
   "codemirror_mode": {
    "name": "ipython",
    "version": 3
   },
   "file_extension": ".py",
   "mimetype": "text/x-python",
   "name": "python",
   "nbconvert_exporter": "python",
   "pygments_lexer": "ipython3",
   "version": "3.9.12"
  }
 },
 "nbformat": 4,
 "nbformat_minor": 5
}
